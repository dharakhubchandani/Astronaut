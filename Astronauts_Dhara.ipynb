{
 "cells": [
  {
   "cell_type": "code",
   "execution_count": 1,
   "id": "1bbce6bb",
   "metadata": {},
   "outputs": [],
   "source": [
    "import numpy as np\n",
    "import pandas as pd\n",
    "import matplotlib.pyplot as plt\n",
    "import seaborn as sns\n"
   ]
  },
  {
   "cell_type": "code",
   "execution_count": 2,
   "id": "bffd74db",
   "metadata": {},
   "outputs": [
    {
     "data": {
      "text/html": [
       "<div>\n",
       "<style scoped>\n",
       "    .dataframe tbody tr th:only-of-type {\n",
       "        vertical-align: middle;\n",
       "    }\n",
       "\n",
       "    .dataframe tbody tr th {\n",
       "        vertical-align: top;\n",
       "    }\n",
       "\n",
       "    .dataframe thead th {\n",
       "        text-align: right;\n",
       "    }\n",
       "</style>\n",
       "<table border=\"1\" class=\"dataframe\">\n",
       "  <thead>\n",
       "    <tr style=\"text-align: right;\">\n",
       "      <th></th>\n",
       "      <th>Name</th>\n",
       "      <th>Year</th>\n",
       "      <th>Group</th>\n",
       "      <th>Status</th>\n",
       "      <th>Birth Date</th>\n",
       "      <th>Birth Place</th>\n",
       "      <th>Gender</th>\n",
       "      <th>Alma Mater</th>\n",
       "      <th>Undergraduate Major</th>\n",
       "      <th>Graduate Major</th>\n",
       "      <th>Military Rank</th>\n",
       "      <th>Military Branch</th>\n",
       "      <th>Space Flights</th>\n",
       "      <th>Space Flight (hr)</th>\n",
       "      <th>Space Walks</th>\n",
       "      <th>Space Walks (hr)</th>\n",
       "      <th>Missions</th>\n",
       "      <th>Death Date</th>\n",
       "      <th>Death Mission</th>\n",
       "    </tr>\n",
       "  </thead>\n",
       "  <tbody>\n",
       "    <tr>\n",
       "      <th>0</th>\n",
       "      <td>Joseph M. Acaba</td>\n",
       "      <td>2004.0</td>\n",
       "      <td>19.0</td>\n",
       "      <td>Active</td>\n",
       "      <td>5/17/1967</td>\n",
       "      <td>Inglewood, CA</td>\n",
       "      <td>Male</td>\n",
       "      <td>University of California-Santa Barbara; Univer...</td>\n",
       "      <td>Geology</td>\n",
       "      <td>Geology</td>\n",
       "      <td>NaN</td>\n",
       "      <td>NaN</td>\n",
       "      <td>2</td>\n",
       "      <td>3307</td>\n",
       "      <td>2</td>\n",
       "      <td>13.0</td>\n",
       "      <td>STS-119 (Discovery), ISS-31/32 (Soyuz)</td>\n",
       "      <td>NaN</td>\n",
       "      <td>NaN</td>\n",
       "    </tr>\n",
       "    <tr>\n",
       "      <th>1</th>\n",
       "      <td>Loren W. Acton</td>\n",
       "      <td>NaN</td>\n",
       "      <td>NaN</td>\n",
       "      <td>Retired</td>\n",
       "      <td>3/7/1936</td>\n",
       "      <td>Lewiston, MT</td>\n",
       "      <td>Male</td>\n",
       "      <td>Montana State University; University of Colorado</td>\n",
       "      <td>Engineering Physics</td>\n",
       "      <td>Solar Physics</td>\n",
       "      <td>NaN</td>\n",
       "      <td>NaN</td>\n",
       "      <td>1</td>\n",
       "      <td>190</td>\n",
       "      <td>0</td>\n",
       "      <td>0.0</td>\n",
       "      <td>STS 51-F (Challenger)</td>\n",
       "      <td>NaN</td>\n",
       "      <td>NaN</td>\n",
       "    </tr>\n",
       "    <tr>\n",
       "      <th>2</th>\n",
       "      <td>James C. Adamson</td>\n",
       "      <td>1984.0</td>\n",
       "      <td>10.0</td>\n",
       "      <td>Retired</td>\n",
       "      <td>3/3/1946</td>\n",
       "      <td>Warsaw, NY</td>\n",
       "      <td>Male</td>\n",
       "      <td>US Military Academy; Princeton University</td>\n",
       "      <td>Engineering</td>\n",
       "      <td>Aerospace Engineering</td>\n",
       "      <td>Colonel</td>\n",
       "      <td>US Army (Retired)</td>\n",
       "      <td>2</td>\n",
       "      <td>334</td>\n",
       "      <td>0</td>\n",
       "      <td>0.0</td>\n",
       "      <td>STS-28 (Columbia), STS-43 (Atlantis)</td>\n",
       "      <td>NaN</td>\n",
       "      <td>NaN</td>\n",
       "    </tr>\n",
       "    <tr>\n",
       "      <th>3</th>\n",
       "      <td>Thomas D. Akers</td>\n",
       "      <td>1987.0</td>\n",
       "      <td>12.0</td>\n",
       "      <td>Retired</td>\n",
       "      <td>5/20/1951</td>\n",
       "      <td>St. Louis, MO</td>\n",
       "      <td>Male</td>\n",
       "      <td>University of Missouri-Rolla</td>\n",
       "      <td>Applied Mathematics</td>\n",
       "      <td>Applied Mathematics</td>\n",
       "      <td>Colonel</td>\n",
       "      <td>US Air Force (Retired)</td>\n",
       "      <td>4</td>\n",
       "      <td>814</td>\n",
       "      <td>4</td>\n",
       "      <td>29.0</td>\n",
       "      <td>STS-41 (Discovery), STS-49 (Endeavor), STS-61 ...</td>\n",
       "      <td>NaN</td>\n",
       "      <td>NaN</td>\n",
       "    </tr>\n",
       "    <tr>\n",
       "      <th>4</th>\n",
       "      <td>Buzz Aldrin</td>\n",
       "      <td>1963.0</td>\n",
       "      <td>3.0</td>\n",
       "      <td>Retired</td>\n",
       "      <td>1/20/1930</td>\n",
       "      <td>Montclair, NJ</td>\n",
       "      <td>Male</td>\n",
       "      <td>US Military Academy; MIT</td>\n",
       "      <td>Mechanical Engineering</td>\n",
       "      <td>Astronautics</td>\n",
       "      <td>Colonel</td>\n",
       "      <td>US Air Force (Retired)</td>\n",
       "      <td>2</td>\n",
       "      <td>289</td>\n",
       "      <td>2</td>\n",
       "      <td>8.0</td>\n",
       "      <td>Gemini 12, Apollo 11</td>\n",
       "      <td>NaN</td>\n",
       "      <td>NaN</td>\n",
       "    </tr>\n",
       "  </tbody>\n",
       "</table>\n",
       "</div>"
      ],
      "text/plain": [
       "               Name    Year  Group   Status Birth Date    Birth Place Gender  \\\n",
       "0   Joseph M. Acaba  2004.0   19.0   Active  5/17/1967  Inglewood, CA   Male   \n",
       "1    Loren W. Acton     NaN    NaN  Retired   3/7/1936   Lewiston, MT   Male   \n",
       "2  James C. Adamson  1984.0   10.0  Retired   3/3/1946     Warsaw, NY   Male   \n",
       "3   Thomas D. Akers  1987.0   12.0  Retired  5/20/1951  St. Louis, MO   Male   \n",
       "4       Buzz Aldrin  1963.0    3.0  Retired  1/20/1930  Montclair, NJ   Male   \n",
       "\n",
       "                                          Alma Mater     Undergraduate Major  \\\n",
       "0  University of California-Santa Barbara; Univer...                 Geology   \n",
       "1   Montana State University; University of Colorado     Engineering Physics   \n",
       "2          US Military Academy; Princeton University             Engineering   \n",
       "3                       University of Missouri-Rolla     Applied Mathematics   \n",
       "4                           US Military Academy; MIT  Mechanical Engineering   \n",
       "\n",
       "          Graduate Major Military Rank         Military Branch  Space Flights  \\\n",
       "0                Geology           NaN                     NaN              2   \n",
       "1          Solar Physics           NaN                     NaN              1   \n",
       "2  Aerospace Engineering       Colonel       US Army (Retired)              2   \n",
       "3    Applied Mathematics       Colonel  US Air Force (Retired)              4   \n",
       "4           Astronautics       Colonel  US Air Force (Retired)              2   \n",
       "\n",
       "   Space Flight (hr)  Space Walks  Space Walks (hr)  \\\n",
       "0               3307            2              13.0   \n",
       "1                190            0               0.0   \n",
       "2                334            0               0.0   \n",
       "3                814            4              29.0   \n",
       "4                289            2               8.0   \n",
       "\n",
       "                                            Missions Death Date Death Mission  \n",
       "0             STS-119 (Discovery), ISS-31/32 (Soyuz)        NaN           NaN  \n",
       "1                              STS 51-F (Challenger)        NaN           NaN  \n",
       "2               STS-28 (Columbia), STS-43 (Atlantis)        NaN           NaN  \n",
       "3  STS-41 (Discovery), STS-49 (Endeavor), STS-61 ...        NaN           NaN  \n",
       "4                               Gemini 12, Apollo 11        NaN           NaN  "
      ]
     },
     "execution_count": 2,
     "metadata": {},
     "output_type": "execute_result"
    }
   ],
   "source": [
    "Astronaut = pd.read_csv('astronauts.csv')\n",
    "Astronaut.head(5)"
   ]
  },
  {
   "cell_type": "code",
   "execution_count": 5,
   "id": "96efb691",
   "metadata": {},
   "outputs": [
    {
     "name": "stdout",
     "output_type": "stream",
     "text": [
      "<class 'pandas.core.frame.DataFrame'>\n",
      "RangeIndex: 357 entries, 0 to 356\n",
      "Data columns (total 19 columns):\n",
      " #   Column               Non-Null Count  Dtype  \n",
      "---  ------               --------------  -----  \n",
      " 0   Name                 357 non-null    object \n",
      " 1   Year                 330 non-null    float64\n",
      " 2   Group                330 non-null    float64\n",
      " 3   Status               357 non-null    object \n",
      " 4   Birth Date           357 non-null    object \n",
      " 5   Birth Place          357 non-null    object \n",
      " 6   Gender               357 non-null    object \n",
      " 7   Alma Mater           356 non-null    object \n",
      " 8   Undergraduate Major  335 non-null    object \n",
      " 9   Graduate Major       298 non-null    object \n",
      " 10  Military Rank        207 non-null    object \n",
      " 11  Military Branch      211 non-null    object \n",
      " 12  Space Flights        357 non-null    int64  \n",
      " 13  Space Flight (hr)    357 non-null    int64  \n",
      " 14  Space Walks          357 non-null    int64  \n",
      " 15  Space Walks (hr)     357 non-null    float64\n",
      " 16  Missions             334 non-null    object \n",
      " 17  Death Date           52 non-null     object \n",
      " 18  Death Mission        16 non-null     object \n",
      "dtypes: float64(3), int64(3), object(13)\n",
      "memory usage: 53.1+ KB\n"
     ]
    }
   ],
   "source": [
    "Astronaut.info()"
   ]
  },
  {
   "cell_type": "markdown",
   "id": "949ffd2d",
   "metadata": {},
   "source": [
    "**Question 1: How many astronauts are there in our dataset?**"
   ]
  },
  {
   "cell_type": "code",
   "execution_count": 3,
   "id": "3c533aca",
   "metadata": {},
   "outputs": [
    {
     "data": {
      "text/plain": [
       "357"
      ]
     },
     "execution_count": 3,
     "metadata": {},
     "output_type": "execute_result"
    }
   ],
   "source": [
    "len(Astronaut.Name.unique())"
   ]
  },
  {
   "cell_type": "markdown",
   "id": "f0df8cac",
   "metadata": {},
   "source": [
    "**Question 2: Out of the total astronauts, how many are Male? How many are Female?**"
   ]
  },
  {
   "cell_type": "code",
   "execution_count": 4,
   "id": "3311db46",
   "metadata": {},
   "outputs": [
    {
     "name": "stdout",
     "output_type": "stream",
     "text": [
      "Male Astronauts: 307\n",
      "Female Astronauts: 50\n"
     ]
    }
   ],
   "source": [
    "Male = Astronaut[Astronaut.Gender == 'Male']['Gender'].count()\n",
    "Female = Astronaut[Astronaut.Gender == 'Female']['Gender'].count()\n",
    "\n",
    "print('Male Astronauts:', Male)\n",
    "print('Female Astronauts:', Female)"
   ]
  },
  {
   "cell_type": "markdown",
   "id": "75499190",
   "metadata": {},
   "source": [
    "**Question 3: What is the average space flights for Male and Female?**"
   ]
  },
  {
   "cell_type": "code",
   "execution_count": 6,
   "id": "d303ceb6",
   "metadata": {},
   "outputs": [
    {
     "data": {
      "text/plain": [
       "Gender\n",
       "Female    2.40\n",
       "Male      2.36\n",
       "Name: Space Flights, dtype: float64"
      ]
     },
     "execution_count": 6,
     "metadata": {},
     "output_type": "execute_result"
    }
   ],
   "source": [
    "Avg_Spaceflights = Astronaut.groupby('Gender')['Space Flights'].mean()\n",
    "Avg_Spaceflights.round(2)"
   ]
  },
  {
   "cell_type": "markdown",
   "id": "d401dbbf",
   "metadata": {},
   "source": [
    "**Question 4: What is the average space flight time in hours for Male and Female?**"
   ]
  },
  {
   "cell_type": "code",
   "execution_count": 7,
   "id": "3e829f19",
   "metadata": {},
   "outputs": [
    {
     "data": {
      "text/plain": [
       "Gender\n",
       "Female    1577.30\n",
       "Male      1195.84\n",
       "Name: Space Flight (hr), dtype: float64"
      ]
     },
     "execution_count": 7,
     "metadata": {},
     "output_type": "execute_result"
    }
   ],
   "source": [
    "Avg_Spaceflights_Hr = Astronaut.groupby('Gender')['Space Flight (hr)'].mean()\n",
    "Avg_Spaceflights_Hr.round(2)"
   ]
  },
  {
   "cell_type": "markdown",
   "id": "435d1d66",
   "metadata": {},
   "source": [
    "**Question 5: How many astronauts are active, retired, deceased and with management? How many of them are Male/Female?**"
   ]
  },
  {
   "cell_type": "code",
   "execution_count": 9,
   "id": "32c2a769",
   "metadata": {},
   "outputs": [
    {
     "data": {
      "text/html": [
       "<div>\n",
       "<style scoped>\n",
       "    .dataframe tbody tr th:only-of-type {\n",
       "        vertical-align: middle;\n",
       "    }\n",
       "\n",
       "    .dataframe tbody tr th {\n",
       "        vertical-align: top;\n",
       "    }\n",
       "\n",
       "    .dataframe thead tr th {\n",
       "        text-align: left;\n",
       "    }\n",
       "\n",
       "    .dataframe thead tr:last-of-type th {\n",
       "        text-align: right;\n",
       "    }\n",
       "</style>\n",
       "<table border=\"1\" class=\"dataframe\">\n",
       "  <thead>\n",
       "    <tr>\n",
       "      <th></th>\n",
       "      <th colspan=\"3\" halign=\"left\">Count</th>\n",
       "    </tr>\n",
       "    <tr>\n",
       "      <th>Gender</th>\n",
       "      <th>Female</th>\n",
       "      <th>Male</th>\n",
       "      <th>Total</th>\n",
       "    </tr>\n",
       "    <tr>\n",
       "      <th>Status</th>\n",
       "      <th></th>\n",
       "      <th></th>\n",
       "      <th></th>\n",
       "    </tr>\n",
       "  </thead>\n",
       "  <tbody>\n",
       "    <tr>\n",
       "      <th>Active</th>\n",
       "      <td>13</td>\n",
       "      <td>37</td>\n",
       "      <td>50</td>\n",
       "    </tr>\n",
       "    <tr>\n",
       "      <th>Deceased</th>\n",
       "      <td>7</td>\n",
       "      <td>44</td>\n",
       "      <td>51</td>\n",
       "    </tr>\n",
       "    <tr>\n",
       "      <th>Management</th>\n",
       "      <td>6</td>\n",
       "      <td>30</td>\n",
       "      <td>36</td>\n",
       "    </tr>\n",
       "    <tr>\n",
       "      <th>Retired</th>\n",
       "      <td>24</td>\n",
       "      <td>196</td>\n",
       "      <td>220</td>\n",
       "    </tr>\n",
       "    <tr>\n",
       "      <th>Total</th>\n",
       "      <td>50</td>\n",
       "      <td>307</td>\n",
       "      <td>357</td>\n",
       "    </tr>\n",
       "  </tbody>\n",
       "</table>\n",
       "</div>"
      ],
      "text/plain": [
       "            Count           \n",
       "Gender     Female Male Total\n",
       "Status                      \n",
       "Active         13   37    50\n",
       "Deceased        7   44    51\n",
       "Management      6   30    36\n",
       "Retired        24  196   220\n",
       "Total          50  307   357"
      ]
     },
     "execution_count": 9,
     "metadata": {},
     "output_type": "execute_result"
    }
   ],
   "source": [
    "pivot_table = Astronaut.groupby(['Status','Gender']).size().reset_index(name='Count').pivot_table(index = 'Status', columns = 'Gender', aggfunc=np.sum, fill_value = 0, margins = True, margins_name = 'Total')\n",
    "pivot_table"
   ]
  },
  {
   "cell_type": "markdown",
   "id": "f5626850",
   "metadata": {},
   "source": [
    "**Question 6: Which 5 Astronauts have the highest Space Flights (Hr)?**"
   ]
  },
  {
   "cell_type": "code",
   "execution_count": 11,
   "id": "e67db6a9",
   "metadata": {},
   "outputs": [
    {
     "data": {
      "text/html": [
       "<div>\n",
       "<style scoped>\n",
       "    .dataframe tbody tr th:only-of-type {\n",
       "        vertical-align: middle;\n",
       "    }\n",
       "\n",
       "    .dataframe tbody tr th {\n",
       "        vertical-align: top;\n",
       "    }\n",
       "\n",
       "    .dataframe thead th {\n",
       "        text-align: right;\n",
       "    }\n",
       "</style>\n",
       "<table border=\"1\" class=\"dataframe\">\n",
       "  <thead>\n",
       "    <tr style=\"text-align: right;\">\n",
       "      <th></th>\n",
       "      <th>Name</th>\n",
       "      <th>Space Flight (hr)</th>\n",
       "    </tr>\n",
       "  </thead>\n",
       "  <tbody>\n",
       "    <tr>\n",
       "      <th>346</th>\n",
       "      <td>Jeffrey N. Williams</td>\n",
       "      <td>12818</td>\n",
       "    </tr>\n",
       "    <tr>\n",
       "      <th>183</th>\n",
       "      <td>Scott J. Kelly</td>\n",
       "      <td>12490</td>\n",
       "    </tr>\n",
       "    <tr>\n",
       "      <th>342</th>\n",
       "      <td>Peggy A. Whitson</td>\n",
       "      <td>11698</td>\n",
       "    </tr>\n",
       "    <tr>\n",
       "      <th>107</th>\n",
       "      <td>E. Michael Fincke</td>\n",
       "      <td>9159</td>\n",
       "    </tr>\n",
       "    <tr>\n",
       "      <th>111</th>\n",
       "      <td>C. Michael Foale</td>\n",
       "      <td>8970</td>\n",
       "    </tr>\n",
       "  </tbody>\n",
       "</table>\n",
       "</div>"
      ],
      "text/plain": [
       "                    Name  Space Flight (hr)\n",
       "346  Jeffrey N. Williams              12818\n",
       "183       Scott J. Kelly              12490\n",
       "342     Peggy A. Whitson              11698\n",
       "107    E. Michael Fincke               9159\n",
       "111     C. Michael Foale               8970"
      ]
     },
     "execution_count": 11,
     "metadata": {},
     "output_type": "execute_result"
    }
   ],
   "source": [
    "Sorted_Spaceflights_Hr = Astronaut.sort_values(by = 'Space Flight (hr)', ascending = False)\n",
    "Sorted_Spaceflights_Hr[['Name','Space Flight (hr)']].head(5)"
   ]
  },
  {
   "cell_type": "markdown",
   "id": "ba1595aa",
   "metadata": {},
   "source": [
    "**Question 7: In the list of astronauts, are there any astronauts who did not travel in Space?**"
   ]
  },
  {
   "cell_type": "code",
   "execution_count": 12,
   "id": "bfcb72d5",
   "metadata": {},
   "outputs": [
    {
     "data": {
      "text/html": [
       "<div>\n",
       "<style scoped>\n",
       "    .dataframe tbody tr th:only-of-type {\n",
       "        vertical-align: middle;\n",
       "    }\n",
       "\n",
       "    .dataframe tbody tr th {\n",
       "        vertical-align: top;\n",
       "    }\n",
       "\n",
       "    .dataframe thead th {\n",
       "        text-align: right;\n",
       "    }\n",
       "</style>\n",
       "<table border=\"1\" class=\"dataframe\">\n",
       "  <thead>\n",
       "    <tr style=\"text-align: right;\">\n",
       "      <th></th>\n",
       "      <th>Name</th>\n",
       "      <th>Space Flight (hr)</th>\n",
       "    </tr>\n",
       "  </thead>\n",
       "  <tbody>\n",
       "    <tr>\n",
       "      <th>344</th>\n",
       "      <td>Clifton C. Williams Jr.</td>\n",
       "      <td>0</td>\n",
       "    </tr>\n",
       "    <tr>\n",
       "      <th>353</th>\n",
       "      <td>Neil W. Woodward III</td>\n",
       "      <td>0</td>\n",
       "    </tr>\n",
       "    <tr>\n",
       "      <th>17</th>\n",
       "      <td>Serena M. Aunon</td>\n",
       "      <td>0</td>\n",
       "    </tr>\n",
       "    <tr>\n",
       "      <th>66</th>\n",
       "      <td>Philip K. Chapman</td>\n",
       "      <td>0</td>\n",
       "    </tr>\n",
       "    <tr>\n",
       "      <th>24</th>\n",
       "      <td>Charles A. Bassett II</td>\n",
       "      <td>0</td>\n",
       "    </tr>\n",
       "    <tr>\n",
       "      <th>136</th>\n",
       "      <td>Duane E. Graveline</td>\n",
       "      <td>0</td>\n",
       "    </tr>\n",
       "    <tr>\n",
       "      <th>116</th>\n",
       "      <td>Theodore C. Freeman</td>\n",
       "      <td>0</td>\n",
       "    </tr>\n",
       "    <tr>\n",
       "      <th>173</th>\n",
       "      <td>Gregory B. Jarvis</td>\n",
       "      <td>0</td>\n",
       "    </tr>\n",
       "    <tr>\n",
       "      <th>108</th>\n",
       "      <td>Jack D. Fischer</td>\n",
       "      <td>0</td>\n",
       "    </tr>\n",
       "    <tr>\n",
       "      <th>165</th>\n",
       "      <td>Donald L. Holmquest</td>\n",
       "      <td>0</td>\n",
       "    </tr>\n",
       "    <tr>\n",
       "      <th>101</th>\n",
       "      <td>Jeanette J. Epps</td>\n",
       "      <td>0</td>\n",
       "    </tr>\n",
       "    <tr>\n",
       "      <th>201</th>\n",
       "      <td>John A. Llewellyn</td>\n",
       "      <td>0</td>\n",
       "    </tr>\n",
       "    <tr>\n",
       "      <th>204</th>\n",
       "      <td>Christopher J. Loria</td>\n",
       "      <td>0</td>\n",
       "    </tr>\n",
       "    <tr>\n",
       "      <th>219</th>\n",
       "      <td>S. Christa McAuliffe</td>\n",
       "      <td>0</td>\n",
       "    </tr>\n",
       "    <tr>\n",
       "      <th>232</th>\n",
       "      <td>F. Curtis Michel</td>\n",
       "      <td>0</td>\n",
       "    </tr>\n",
       "    <tr>\n",
       "      <th>129</th>\n",
       "      <td>Edward G. Givens Jr.</td>\n",
       "      <td>0</td>\n",
       "    </tr>\n",
       "    <tr>\n",
       "      <th>326</th>\n",
       "      <td>Mark T. Vande Hei</td>\n",
       "      <td>0</td>\n",
       "    </tr>\n",
       "    <tr>\n",
       "      <th>63</th>\n",
       "      <td>Roger B. Chaffee</td>\n",
       "      <td>0</td>\n",
       "    </tr>\n",
       "    <tr>\n",
       "      <th>275</th>\n",
       "      <td>Patricia Hilliard Robertson</td>\n",
       "      <td>0</td>\n",
       "    </tr>\n",
       "    <tr>\n",
       "      <th>51</th>\n",
       "      <td>Fernando Caldeiro</td>\n",
       "      <td>0</td>\n",
       "    </tr>\n",
       "    <tr>\n",
       "      <th>50</th>\n",
       "      <td>Yvonne D. Cagle</td>\n",
       "      <td>0</td>\n",
       "    </tr>\n",
       "    <tr>\n",
       "      <th>293</th>\n",
       "      <td>Elliot M. See Jr.</td>\n",
       "      <td>0</td>\n",
       "    </tr>\n",
       "    <tr>\n",
       "      <th>46</th>\n",
       "      <td>John S. Bull</td>\n",
       "      <td>0</td>\n",
       "    </tr>\n",
       "    <tr>\n",
       "      <th>301</th>\n",
       "      <td>Michael J. Smith</td>\n",
       "      <td>0</td>\n",
       "    </tr>\n",
       "    <tr>\n",
       "      <th>318</th>\n",
       "      <td>Stephen D. Thorne</td>\n",
       "      <td>0</td>\n",
       "    </tr>\n",
       "    <tr>\n",
       "      <th>322</th>\n",
       "      <td>Scott D. Tingle</td>\n",
       "      <td>0</td>\n",
       "    </tr>\n",
       "    <tr>\n",
       "      <th>246</th>\n",
       "      <td>Brian T. O'Leary</td>\n",
       "      <td>0</td>\n",
       "    </tr>\n",
       "  </tbody>\n",
       "</table>\n",
       "</div>"
      ],
      "text/plain": [
       "                            Name  Space Flight (hr)\n",
       "344     Clifton C. Williams Jr.                   0\n",
       "353        Neil W. Woodward III                   0\n",
       "17               Serena M. Aunon                  0\n",
       "66             Philip K. Chapman                  0\n",
       "24        Charles A. Bassett II                   0\n",
       "136           Duane E. Graveline                  0\n",
       "116          Theodore C. Freeman                  0\n",
       "173            Gregory B. Jarvis                  0\n",
       "108              Jack D. Fischer                  0\n",
       "165          Donald L. Holmquest                  0\n",
       "101             Jeanette J. Epps                  0\n",
       "201            John A. Llewellyn                  0\n",
       "204         Christopher J. Loria                  0\n",
       "219         S. Christa McAuliffe                  0\n",
       "232             F. Curtis Michel                  0\n",
       "129        Edward G. Givens Jr.                   0\n",
       "326            Mark T. Vande Hei                  0\n",
       "63              Roger B. Chaffee                  0\n",
       "275  Patricia Hilliard Robertson                  0\n",
       "51             Fernando Caldeiro                  0\n",
       "50               Yvonne D. Cagle                  0\n",
       "293           Elliot M. See Jr.                   0\n",
       "46                  John S. Bull                  0\n",
       "301             Michael J. Smith                  0\n",
       "318            Stephen D. Thorne                  0\n",
       "322              Scott D. Tingle                  0\n",
       "246             Brian T. O'Leary                  0"
      ]
     },
     "execution_count": 12,
     "metadata": {},
     "output_type": "execute_result"
    }
   ],
   "source": [
    "Lowest_spaceflight = Sorted_Spaceflights_Hr[Sorted_Spaceflights_Hr['Space Flight (hr)'] == Sorted_Spaceflights_Hr['Space Flight (hr)'].min()][['Name','Space Flight (hr)']]\n",
    "\n",
    "Lowest_spaceflight"
   ]
  },
  {
   "cell_type": "markdown",
   "id": "7b9e048f",
   "metadata": {},
   "source": [
    "**Question 8: At this point of analysis, What can we infer from the outputs?**"
   ]
  },
  {
   "cell_type": "markdown",
   "id": "e149a634",
   "metadata": {},
   "source": [
    "*We can analyse that in the dataset, majorly astronauts are Male. When we compare the space travel time and the space flights between Male and Female, we can see the number of space travel flights and the average space flights (hr) is higher for females compared to males*"
   ]
  },
  {
   "cell_type": "markdown",
   "id": "fbfe325f",
   "metadata": {},
   "source": [
    "**Question 9: Which Military status group has the highest number of astronauts?**"
   ]
  },
  {
   "cell_type": "code",
   "execution_count": 50,
   "id": "42c36219",
   "metadata": {},
   "outputs": [
    {
     "data": {
      "text/plain": [
       "Name                     0\n",
       "Year                    27\n",
       "Group                   27\n",
       "Status                   0\n",
       "Birth Date               0\n",
       "Birth Place              0\n",
       "Gender                   0\n",
       "Alma Mater               1\n",
       "Undergraduate Major     22\n",
       "Graduate Major          59\n",
       "Military Rank          150\n",
       "Military Branch        146\n",
       "Space Flights            0\n",
       "Space Flight (hr)        0\n",
       "Space Walks              0\n",
       "Space Walks (hr)         0\n",
       "Missions                23\n",
       "Death Date             305\n",
       "Death Mission          341\n",
       "MissionsList            23\n",
       "MissionCount             0\n",
       "dtype: int64"
      ]
     },
     "execution_count": 50,
     "metadata": {},
     "output_type": "execute_result"
    }
   ],
   "source": [
    "#Checking for the null values\n",
    "Astronaut.isnull().sum() "
   ]
  },
  {
   "cell_type": "code",
   "execution_count": 44,
   "id": "713964be",
   "metadata": {},
   "outputs": [
    {
     "name": "stdout",
     "output_type": "stream",
     "text": [
      "US Air Force (Retired)             61\n",
      "US Navy (Retired)                  59\n",
      "US Air Force                       21\n",
      "US Navy                            21\n",
      "US Marine Corps (Retired)          17\n",
      "US Army (Retired)                  13\n",
      "US Army                             4\n",
      "US Air Force Reserves (Retired)     3\n",
      "US Marine Corps                     3\n",
      "US Air Force Reserves               2\n",
      "US Coast Guard (Retired)            2\n",
      "US Marine Corps Reserves            2\n",
      "US Naval Reserves                   2\n",
      "US Naval Reserves (Retired)         1\n",
      "dtype: int64\n"
     ]
    },
    {
     "name": "stderr",
     "output_type": "stream",
     "text": [
      "C:\\Users\\jaybi\\AppData\\Local\\Temp\\ipykernel_10372\\1556393210.py:8: FutureWarning: The series.append method is deprecated and will be removed from pandas in a future version. Use pandas.concat instead.\n",
      "  group_counts_with_total = group_counts.append(pd.Series(group_counts.sum(), index=['Total']))\n"
     ]
    }
   ],
   "source": [
    "Military_Branch = 'Military Branch'\n",
    "Astronaut1 = Astronaut.dropna(subset = [Military_Branch]) #dropping the NaN rows from 'Military Branch'\n",
    "\n",
    "# Count the total number of astronauts with the Military status\n",
    "group_counts = Astronaut1.groupby(['Military Branch']).size()\n",
    "\n",
    "# Append the total count\n",
    "group_counts_with_total = group_counts.append(pd.Series(group_counts.sum(), index=['Total']))\n",
    "\n",
    "# Sort the numbers \n",
    "sorted_group_counts = group_counts_with_total.drop('Total').sort_values(ascending = False)\n",
    "\n",
    "# Display the result\n",
    "print(sorted_group_counts)"
   ]
  },
  {
   "cell_type": "markdown",
   "id": "7cea5db1",
   "metadata": {},
   "source": [
    "**Question 10: Who are the top 5 astronauts who have been on maximum missions?**"
   ]
  },
  {
   "cell_type": "code",
   "execution_count": 49,
   "id": "71940a3b",
   "metadata": {},
   "outputs": [
    {
     "data": {
      "text/html": [
       "<div>\n",
       "<style scoped>\n",
       "    .dataframe tbody tr th:only-of-type {\n",
       "        vertical-align: middle;\n",
       "    }\n",
       "\n",
       "    .dataframe tbody tr th {\n",
       "        vertical-align: top;\n",
       "    }\n",
       "\n",
       "    .dataframe thead th {\n",
       "        text-align: right;\n",
       "    }\n",
       "</style>\n",
       "<table border=\"1\" class=\"dataframe\">\n",
       "  <thead>\n",
       "    <tr style=\"text-align: right;\">\n",
       "      <th></th>\n",
       "      <th>Name</th>\n",
       "      <th>MissionCount</th>\n",
       "    </tr>\n",
       "  </thead>\n",
       "  <tbody>\n",
       "    <tr>\n",
       "      <th>279</th>\n",
       "      <td>Jerry L. Ross</td>\n",
       "      <td>7</td>\n",
       "    </tr>\n",
       "    <tr>\n",
       "      <th>65</th>\n",
       "      <td>Franklin R. Chang-Diaz</td>\n",
       "      <td>7</td>\n",
       "    </tr>\n",
       "    <tr>\n",
       "      <th>111</th>\n",
       "      <td>C. Michael Foale</td>\n",
       "      <td>6</td>\n",
       "    </tr>\n",
       "    <tr>\n",
       "      <th>355</th>\n",
       "      <td>John W. Young</td>\n",
       "      <td>6</td>\n",
       "    </tr>\n",
       "    <tr>\n",
       "      <th>339</th>\n",
       "      <td>James D. Wetherbee</td>\n",
       "      <td>6</td>\n",
       "    </tr>\n",
       "  </tbody>\n",
       "</table>\n",
       "</div>"
      ],
      "text/plain": [
       "                       Name  MissionCount\n",
       "279           Jerry L. Ross             7\n",
       "65   Franklin R. Chang-Diaz             7\n",
       "111        C. Michael Foale             6\n",
       "355           John W. Young             6\n",
       "339      James D. Wetherbee             6"
      ]
     },
     "execution_count": 49,
     "metadata": {},
     "output_type": "execute_result"
    }
   ],
   "source": [
    "#The name of the missions are in one row, with comma-separated for each astronaut\n",
    "\n",
    "# Split the mission information by comma and create a new column with the split list\n",
    "Astronaut['MissionsList'] = Astronaut['Missions'].str.split(',')\n",
    "\n",
    "# Count the number of missions for each scientist\n",
    "Astronaut['MissionCount'] = Astronaut['MissionsList'].apply(lambda x: len(x) if isinstance(x, list) else 0)\n",
    "\n",
    "# Sort the DataFrame based on the mission count in descending order\n",
    "sorted_df = Astronaut.sort_values('MissionCount', ascending=False)\n",
    "\n",
    "# Display the sorted DataFrame with scientists and their respective mission counts\n",
    "sorted_df[['Name', 'MissionCount']].head(5)"
   ]
  },
  {
   "cell_type": "markdown",
   "id": "2327a99e",
   "metadata": {},
   "source": [
    "**Question 11: Build some visuals from the tables created above.**"
   ]
  },
  {
   "cell_type": "code",
   "execution_count": 51,
   "id": "65aafcb7",
   "metadata": {},
   "outputs": [
    {
     "data": {
      "text/plain": [
       "<AxesSubplot:xlabel='Gender', ylabel='count'>"
      ]
     },
     "execution_count": 51,
     "metadata": {},
     "output_type": "execute_result"
    },
    {
     "data": {
      "image/png": "[encoded data removed]",
      "text/plain": [
       "<Figure size 640x480 with 1 Axes>"
      ]
     },
     "metadata": {},
     "output_type": "display_data"
    }
   ],
   "source": [
    "sns.countplot(x='Gender', hue = 'Status',data = Astronaut , palette=\"Set1\")\n"
   ]
  },
  {
   "cell_type": "code",
   "execution_count": 53,
   "id": "2d496c0d",
   "metadata": {},
   "outputs": [
    {
     "data": {
      "text/plain": [
       "<AxesSubplot:xlabel='Status', ylabel='count'>"
      ]
     },
     "execution_count": 53,
     "metadata": {},
     "output_type": "execute_result"
    },
    {
     "data": {
      "image/png": "[encoded data removed]",
      "text/plain": [
       "<Figure size 640x480 with 1 Axes>"
      ]
     },
     "metadata": {},
     "output_type": "display_data"
    }
   ],
   "source": [
    "sns.countplot(x='Status', hue = 'Gender',data = Astronaut , palette=\"Set1\")\n"
   ]
  },
  {
   "cell_type": "code",
   "execution_count": 54,
   "id": "369f18e8",
   "metadata": {},
   "outputs": [
    {
     "data": {
      "image/png": "[encoded data removed]",
      "text/plain": [
       "<Figure size 640x480 with 1 Axes>"
      ]
     },
     "metadata": {},
     "output_type": "display_data"
    }
   ],
   "source": [
    "scatter,ax = plt.subplots()\n",
    "\n",
    "sns.scatterplot ( data = Astronaut, x = 'Year', y = 'Space Flights', ax=ax)\n",
    "ax.set_title ('Scatterplot of Space Flight vs MissionCount')\n",
    "ax.set_xlabel('Space Flight')\n",
    "ax.set_ylabel('Mission Count')\n",
    "\n",
    "plt.show()"
   ]
  },
  {
   "cell_type": "code",
   "execution_count": null,
   "id": "196121f0",
   "metadata": {},
   "outputs": [],
   "source": []
  }
 ],
 "metadata": {
  "kernelspec": {
   "display_name": "Python 3 (ipykernel)",
   "language": "python",
   "name": "python3"
  },
  "language_info": {
   "codemirror_mode": {
    "name": "ipython",
    "version": 3
   },
   "file_extension": ".py",
   "mimetype": "text/x-python",
   "name": "python",
   "nbconvert_exporter": "python",
   "pygments_lexer": "ipython3",
   "version": "3.9.13"
  }
 },
 "nbformat": 4,
 "nbformat_minor": 5
}
